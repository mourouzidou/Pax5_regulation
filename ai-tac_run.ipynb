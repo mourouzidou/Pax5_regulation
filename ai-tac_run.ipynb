{
  "nbformat": 4,
  "nbformat_minor": 0,
  "metadata": {
    "colab": {
      "provenance": [],
      "gpuType": "T4",
      "authorship_tag": "ABX9TyP4rJqECd25jKTGuFb+7Rrd",
      "include_colab_link": true
    },
    "kernelspec": {
      "name": "python3",
      "display_name": "Python 3"
    },
    "language_info": {
      "name": "python"
    },
    "accelerator": "GPU"
  },
  "cells": [
    {
      "cell_type": "markdown",
      "metadata": {
        "id": "view-in-github",
        "colab_type": "text"
      },
      "source": [
        "<a href=\"https://colab.research.google.com/github/mourouzidou/BLAST_Analysis_Pipeline/blob/main/ai-tac_run.ipynb\" target=\"_parent\"><img src=\"https://colab.research.google.com/assets/colab-badge.svg\" alt=\"Open In Colab\"/></a>"
      ]
    },
    {
      "cell_type": "code",
      "execution_count": 1,
      "metadata": {
        "colab": {
          "base_uri": "https://localhost:8080/"
        },
        "id": "xmbV3J-s86hx",
        "outputId": "82abec81-9f48-490f-e112-492983326d47"
      },
      "outputs": [
        {
          "output_type": "stream",
          "name": "stdout",
          "text": [
            "Cloning into 'AI-TAC'...\n",
            "remote: Enumerating objects: 123, done.\u001b[K\n",
            "remote: Counting objects: 100% (31/31), done.\u001b[K\n",
            "remote: Compressing objects: 100% (16/16), done.\u001b[K\n",
            "remote: Total 123 (delta 21), reused 15 (delta 15), pack-reused 92 (from 1)\u001b[K\n",
            "Receiving objects: 100% (123/123), 11.16 MiB | 19.77 MiB/s, done.\n",
            "Resolving deltas: 100% (55/55), done.\n"
          ]
        }
      ],
      "source": [
        "!git clone https://github.com/smaslova/AI-TAC.git\n"
      ]
    },
    {
      "cell_type": "code",
      "source": [
        "import os\n",
        "os.chdir('/content/AI-TAC/code')\n",
        "print(\"Current working directory:\", os.getcwd())\n"
      ],
      "metadata": {
        "colab": {
          "base_uri": "https://localhost:8080/"
        },
        "id": "IAzJQcRh89IT",
        "outputId": "8b4b02da-03ad-4162-8312-0289cb360e77"
      },
      "execution_count": 3,
      "outputs": [
        {
          "output_type": "stream",
          "name": "stdout",
          "text": [
            "Current working directory: /content/AI-TAC/code\n"
          ]
        }
      ]
    },
    {
      "cell_type": "code",
      "source": [
        "!python -u extract_motifs.py 'aitac' '../sample_data/one_hot_seqs.npy' '../sample_data/cell_type_array.npy' '../sample_data/peak_names.npy'"
      ],
      "metadata": {
        "id": "O6Tx2dvTAKhu"
      },
      "execution_count": 42,
      "outputs": []
    },
    {
      "cell_type": "code",
      "source": [
        "import numpy as np\n",
        "\n",
        "\n",
        "\n",
        "one_hot_seqs_path = \"../sample_data/one_hot_seqs.npy\"\n",
        "\n",
        "cell_type_array_path = \"../sample_data/cell_type_array.npy\"\n",
        "\n",
        "peak_names_path = \"../sample_data/peak_names.npy\"\n",
        "\n",
        "predictions = np.load('../outputs/aitac/motifs/predictions.npy')\n",
        "# print(predictions.shape)\n",
        "# print(\"predictions : \", predictions[18])\n",
        "\n",
        "# Load the data to analyze its structure\n",
        "\n",
        "try:\n",
        "\n",
        "    one_hot_seqs = np.load(one_hot_seqs_path)\n",
        "\n",
        "    cell_type_array = np.load(cell_type_array_path)\n",
        "\n",
        "    peak_names = np.load(peak_names_path)\n",
        "\n",
        "\n",
        "\n",
        "    # Display the shapes and examples\n",
        "\n",
        "    print(f\"one_hot_seqs shape: {one_hot_seqs.shape}\")  # Shape of one-hot encoded sequences\n",
        "\n",
        "    print(f\"cell_type_array shape: {cell_type_array.shape}\")  # Shape of cell type array (labels)\n",
        "\n",
        "    print(f\"peak_names shape: {peak_names.shape}\")  # Shape of peak names\n",
        "\n",
        "\n",
        "\n",
        "    # Display a sample of the data\n",
        "\n",
        "    print(\"\\nSample of one_hot_seqs (first sequence):\", one_hot_seqs[1][:, :])  # First sequence, first 10 bases\n",
        "\n",
        "    print(\"\\nSample of cell_type_array (first entry):\", cell_type_array[18])  # First label\n",
        "\n",
        "    print(\"\\nSample of peak_names (first entry):\", peak_names[1])  # First peak name\n",
        "\n",
        "\n",
        "\n",
        "except Exception as e:\n",
        "\n",
        "    print(\"Error loading sample data:\", str(e))\n",
        "\n",
        "\n",
        "ocr_matrix = np.load('../outputs/aitac/motifs/OCR_matrix.npy')\n",
        "print(ocr_matrix)\n"
      ],
      "metadata": {
        "id": "BXiU2U6XOKhZ",
        "colab": {
          "base_uri": "https://localhost:8080/"
        },
        "outputId": "a736ca04-20f2-430d-b79d-27c6db76849b"
      },
      "execution_count": 134,
      "outputs": [
        {
          "output_type": "stream",
          "name": "stdout",
          "text": [
            "one_hot_seqs shape: (100, 4, 251)\n",
            "cell_type_array shape: (100, 81)\n",
            "peak_names shape: (100,)\n",
            "\n",
            "Sample of one_hot_seqs (first sequence): [[1 1 0 ... 0 0 0]\n",
            " [0 0 0 ... 0 0 1]\n",
            " [0 0 0 ... 0 0 0]\n",
            " [0 0 1 ... 1 1 0]]\n",
            "\n",
            "Sample of cell_type_array (first entry): [1.151828 1.605631 1.727072 2.665989 3.523474 1.858122 1.373942 1.101284\n",
            " 1.692156 1.416678 1.233521 2.4296   1.687405 1.417435 1.373942 1.703204\n",
            " 1.580527 1.29398  1.086789 1.278626 1.085566 1.635836 1.559985 1.506694\n",
            " 1.368486 1.17485  1.4463   1.36636  1.093838 1.640876 1.093838 1.52303\n",
            " 1.090893 1.095567 1.475017 1.465835 1.747995 1.482109 1.090893 1.242042\n",
            " 1.729853 1.531852 1.192144 1.525959 1.131276 1.708476 1.852317 1.373942\n",
            " 1.608637 1.21101  1.185716 1.207718 1.667046 1.377415 1.249117 1.543197\n",
            " 1.249231 1.51819  1.384767 2.146631 1.589669 1.764902 1.31831  1.449058\n",
            " 1.249117 1.119638 1.240047 1.095567 1.086789 1.123134 1.407541 1.136541\n",
            " 1.516218 1.743399 1.417632 1.093838 1.500516 1.088865 1.216065 1.192439\n",
            " 1.43034 ]\n",
            "\n",
            "Sample of peak_names (first entry): [b'ImmGenATAC1219.peak_3' b'ImmGenATAC1219.peak_4'\n",
            " b'ImmGenATAC1219.peak_6' b'ImmGenATAC1219.peak_7'\n",
            " b'ImmGenATAC1219.peak_8' b'ImmGenATAC1219.peak_10'\n",
            " b'ImmGenATAC1219.peak_12' b'ImmGenATAC1219.peak_14'\n",
            " b'ImmGenATAC1219.peak_15' b'ImmGenATAC1219.peak_18'\n",
            " b'ImmGenATAC1219.peak_19' b'ImmGenATAC1219.peak_20'\n",
            " b'ImmGenATAC1219.peak_21' b'ImmGenATAC1219.peak_22'\n",
            " b'ImmGenATAC1219.peak_23' b'ImmGenATAC1219.peak_24'\n",
            " b'ImmGenATAC1219.peak_27' b'ImmGenATAC1219.peak_29'\n",
            " b'ImmGenATAC1219.peak_30' b'ImmGenATAC1219.peak_31'\n",
            " b'ImmGenATAC1219.peak_33' b'ImmGenATAC1219.peak_35'\n",
            " b'ImmGenATAC1219.peak_36' b'ImmGenATAC1219.peak_38'\n",
            " b'ImmGenATAC1219.peak_41' b'ImmGenATAC1219.peak_43'\n",
            " b'ImmGenATAC1219.peak_46' b'ImmGenATAC1219.peak_48'\n",
            " b'ImmGenATAC1219.peak_50' b'ImmGenATAC1219.peak_52'\n",
            " b'ImmGenATAC1219.peak_53' b'ImmGenATAC1219.peak_54'\n",
            " b'ImmGenATAC1219.peak_56' b'ImmGenATAC1219.peak_59'\n",
            " b'ImmGenATAC1219.peak_60' b'ImmGenATAC1219.peak_61'\n",
            " b'ImmGenATAC1219.peak_62' b'ImmGenATAC1219.peak_64'\n",
            " b'ImmGenATAC1219.peak_67' b'ImmGenATAC1219.peak_68'\n",
            " b'ImmGenATAC1219.peak_69' b'ImmGenATAC1219.peak_71'\n",
            " b'ImmGenATAC1219.peak_73' b'ImmGenATAC1219.peak_75'\n",
            " b'ImmGenATAC1219.peak_76' b'ImmGenATAC1219.peak_77'\n",
            " b'ImmGenATAC1219.peak_78' b'ImmGenATAC1219.peak_79'\n",
            " b'ImmGenATAC1219.peak_80' b'ImmGenATAC1219.peak_81'\n",
            " b'ImmGenATAC1219.peak_82' b'ImmGenATAC1219.peak_83'\n",
            " b'ImmGenATAC1219.peak_84' b'ImmGenATAC1219.peak_85'\n",
            " b'ImmGenATAC1219.peak_86' b'ImmGenATAC1219.peak_87'\n",
            " b'ImmGenATAC1219.peak_91' b'ImmGenATAC1219.peak_92'\n",
            " b'ImmGenATAC1219.peak_93' b'ImmGenATAC1219.peak_95'\n",
            " b'ImmGenATAC1219.peak_96' b'ImmGenATAC1219.peak_97'\n",
            " b'ImmGenATAC1219.peak_100' b'ImmGenATAC1219.peak_102'\n",
            " b'ImmGenATAC1219.peak_103' b'ImmGenATAC1219.peak_104'\n",
            " b'ImmGenATAC1219.peak_107' b'ImmGenATAC1219.peak_108'\n",
            " b'ImmGenATAC1219.peak_109' b'ImmGenATAC1219.peak_111'\n",
            " b'ImmGenATAC1219.peak_114' b'ImmGenATAC1219.peak_115'\n",
            " b'ImmGenATAC1219.peak_117' b'ImmGenATAC1219.peak_119'\n",
            " b'ImmGenATAC1219.peak_120' b'ImmGenATAC1219.peak_123'\n",
            " b'ImmGenATAC1219.peak_124' b'ImmGenATAC1219.peak_125'\n",
            " b'ImmGenATAC1219.peak_126' b'ImmGenATAC1219.peak_127'\n",
            " b'ImmGenATAC1219.peak_130' b'ImmGenATAC1219.peak_131'\n",
            " b'ImmGenATAC1219.peak_132' b'ImmGenATAC1219.peak_133'\n",
            " b'ImmGenATAC1219.peak_136' b'ImmGenATAC1219.peak_137'\n",
            " b'ImmGenATAC1219.peak_138' b'ImmGenATAC1219.peak_139'\n",
            " b'ImmGenATAC1219.peak_140' b'ImmGenATAC1219.peak_141'\n",
            " b'ImmGenATAC1219.peak_142' b'ImmGenATAC1219.peak_145'\n",
            " b'ImmGenATAC1219.peak_146' b'ImmGenATAC1219.peak_147'\n",
            " b'ImmGenATAC1219.peak_150' b'ImmGenATAC1219.peak_153'\n",
            " b'ImmGenATAC1219.peak_157' b'ImmGenATAC1219.peak_158'\n",
            " b'ImmGenATAC1219.peak_159' b'ImmGenATAC1219.peak_160']\n",
            "[[1. 1. 1. ... 0. 1. 1.]\n",
            " [1. 1. 1. ... 1. 1. 1.]\n",
            " [1. 0. 1. ... 1. 1. 1.]\n",
            " ...\n",
            " [1. 1. 1. ... 1. 1. 1.]\n",
            " [1. 1. 1. ... 1. 1. 1.]\n",
            " [1. 1. 1. ... 0. 1. 1.]]\n"
          ]
        }
      ]
    },
    {
      "cell_type": "code",
      "source": [
        "import numpy as np\n",
        "\n",
        "\n",
        "\n",
        "one_hot_seqs_path = \"../one_hot_seqs_pax5.npy\"\n",
        "\n",
        "cell_type_array_path = \"../target_heights_Pax5.npy\"\n",
        "\n",
        "peak_names_path = \"../peak_names_pax5.npy\"\n",
        "\n",
        "# predictions = np.load('../outputs/aitac/motifs/predictions.npy')\n",
        "\n",
        "\n",
        "try:\n",
        "\n",
        "    one_hot_seqs = np.load(one_hot_seqs_path)\n",
        "\n",
        "    cell_type_array = np.load(cell_type_array_path, allow_pickle=True)\n",
        "\n",
        "    peak_names = np.load(peak_names_path, allow_pickle=True)\n",
        "\n",
        "\n",
        "\n",
        "    # Display the shapes and examples\n",
        "\n",
        "    print(f\"one_hot_seqs shape: {one_hot_seqs.shape}\")  # Shape of one-hot encoded sequences\n",
        "\n",
        "    print(f\"cell_type_array shape: {cell_type_array.shape}\")  # Shape of cell type array (labels)\n",
        "\n",
        "    print(f\"peak_names shape: {peak_names.shape}\")  # Shape of peak names\n",
        "\n",
        "\n",
        "\n",
        "    # Display a sample of the data\n",
        "\n",
        "    print(\"\\nSample of one_hot_seqs (first sequence):\", one_hot_seqs[1][:, :])  # First sequence, first 10 bases\n",
        "\n",
        "    print(\"\\nSample of cell_type_array (first entry):\", cell_type_array[18])  # First label\n",
        "\n",
        "    print(\"\\nSample of peak_names (first entry):\", peak_names[1])  # First peak name\n",
        "\n",
        "\n",
        "\n",
        "except Exception as e:\n",
        "\n",
        "    print(\"Error loading sample data:\", str(e))\n",
        "\n",
        "\n",
        "# ocr_matrix = np.load('../outputs/aitac/motifs/OCR_matrix.npy')\n",
        "# print(ocr_matrix)"
      ],
      "metadata": {
        "colab": {
          "base_uri": "https://localhost:8080/"
        },
        "id": "ZBGTFIoXqL-w",
        "outputId": "95ec0d20-4f58-4c92-e093-c573a65f61e7"
      },
      "execution_count": 156,
      "outputs": [
        {
          "output_type": "stream",
          "name": "stdout",
          "text": [
            "one_hot_seqs shape: (85, 4, 250)\n",
            "cell_type_array shape: (85, 81)\n",
            "peak_names shape: (85,)\n",
            "\n",
            "Sample of one_hot_seqs (first sequence): [[0 0 0 0 0 0 0 0 0 0 0 0 0 0 0 0 0 0 0 0 0 0 0 0 0 0 0 0 0 0 0 0 0 0 0 0\n",
            "  0 0 0 0 0 0 0 0 0 0 0 1 1 0 0 1 1 1 0 0 0 1 1 1 0 0 0 1 0 0 1 1 0 0 1 0\n",
            "  1 1 0 0 0 0 0 1 0 0 1 1 0 0 0 1 1 1 0 0 0 1 1 0 0 0 0 0 0 0 1 0 1 0 0 0\n",
            "  1 0 0 0 0 0 0 1 0 0 0 0 0 0 1 0 0 0 0 0 0 1 0 0 0 1 1 1 0 0 0 0 0 1 0 0\n",
            "  1 1 0 0 0 0 0 1 0 1 1 0 1 0 1 0 0 1 0 0 0 0 0 0 0 0 0 0 0 0 1 1 0 0 1 0\n",
            "  0 1 0 0 0 0 0 0 0 1 0 1 0 0 0 1 0 0 0 0 0 0 0 0 0 0 0 0 0 0 0 0 0 0 0 0\n",
            "  0 0 1 0 0 0 0 1 1 0 0 0 1 0 0 1 0 0 0 0 0 0 0 1 1 1 1 0 0 0 0 0 1 0]\n",
            " [0 1 0 1 0 1 0 1 0 1 0 1 0 1 0 1 0 1 0 1 0 1 0 1 1 1 0 1 0 1 0 1 0 1 0 1\n",
            "  0 1 0 1 0 1 0 1 0 1 0 0 0 1 0 0 0 0 0 1 0 0 0 0 0 1 1 0 0 0 0 0 0 0 0 0\n",
            "  0 0 0 1 0 0 0 0 0 0 0 0 0 1 0 0 0 0 0 0 1 0 0 0 0 0 0 0 0 0 0 0 0 0 0 0\n",
            "  0 1 0 0 0 0 0 0 0 0 0 0 0 0 0 1 0 1 0 1 0 0 0 0 0 0 0 0 0 0 0 0 0 0 0 0\n",
            "  0 0 0 0 0 0 0 0 0 0 0 0 0 0 0 0 0 0 0 0 1 0 0 0 0 1 0 1 1 0 0 0 0 0 0 0\n",
            "  0 0 1 0 0 0 0 1 1 0 0 0 0 0 1 0 0 1 1 0 0 0 1 0 0 0 1 0 0 0 0 0 0 0 1 0\n",
            "  1 0 0 0 0 1 0 0 0 1 0 0 0 1 0 0 1 0 0 0 1 1 0 0 0 0 0 0 0 1 0 0 0 1]\n",
            " [0 0 0 0 0 0 0 0 0 0 0 0 0 0 0 0 0 0 0 0 0 0 0 0 0 0 0 0 0 0 0 0 0 0 0 0\n",
            "  0 0 0 0 0 0 0 0 0 0 1 0 0 0 0 0 0 0 1 0 1 0 0 0 0 0 0 0 1 1 0 0 0 0 0 1\n",
            "  0 0 0 0 1 1 1 0 1 1 0 0 0 0 1 0 0 0 0 0 0 0 0 0 0 0 0 0 0 0 0 0 0 0 0 0\n",
            "  0 0 1 1 1 1 0 0 1 1 0 0 0 0 0 0 1 0 0 0 1 0 1 1 1 0 0 0 1 1 0 0 0 0 0 1\n",
            "  0 0 1 0 0 0 0 0 0 0 0 1 0 1 0 0 0 0 0 0 0 1 1 0 0 0 0 0 0 0 0 0 0 0 0 1\n",
            "  1 0 0 0 0 0 0 0 0 0 0 0 1 0 0 0 1 0 0 1 1 0 0 1 0 0 0 1 1 1 1 1 1 1 0 0\n",
            "  0 0 0 1 0 0 1 0 0 0 0 1 0 0 1 0 0 1 1 0 0 0 0 0 0 0 0 1 0 0 1 1 0 0]\n",
            " [1 0 1 0 1 0 1 0 1 0 1 0 1 0 1 0 1 0 1 0 1 0 1 0 0 0 1 0 1 0 1 0 1 0 1 0\n",
            "  1 0 1 0 1 0 1 0 1 0 0 0 0 0 1 0 0 0 0 0 0 0 0 0 1 0 0 0 0 0 0 0 1 1 0 0\n",
            "  0 0 1 0 0 0 0 0 0 0 0 0 1 0 0 0 0 0 1 1 0 0 0 1 1 1 1 1 1 1 0 1 0 1 1 1\n",
            "  0 0 0 0 0 0 1 0 0 0 1 1 1 1 0 0 0 0 1 0 0 0 0 0 0 0 0 0 0 0 1 1 1 0 1 0\n",
            "  0 0 0 1 1 1 1 0 1 0 0 0 0 0 0 1 1 0 1 1 0 0 0 1 1 0 1 0 0 1 0 0 1 1 0 0\n",
            "  0 0 0 1 1 1 1 0 0 0 1 0 0 1 0 0 0 0 0 0 0 1 0 0 1 1 0 0 0 0 0 0 0 0 0 1\n",
            "  0 1 0 0 1 0 0 0 0 0 1 0 0 0 0 0 0 0 0 1 0 0 1 0 0 0 0 0 1 0 0 0 0 0]]\n",
            "\n",
            "Sample of cell_type_array (first entry): [2.750142 2.002591 2.682293 4.516044 3.970572 2.867907 2.916577 2.609728\n",
            " 2.795223 2.476875 2.054011 2.777224 2.467236 3.365761 4.442904 1.090893\n",
            " 1.323886 1.730374 1.669183 1.639135 1.207718 1.188902 1.141376 1.667046\n",
            " 1.131276 2.124498 1.4463   1.416678 1.233493 1.540715 1.733796 1.090893\n",
            " 1.708451 2.118852 1.119481 1.750427 1.206473 1.613829 1.972351 2.033238\n",
            " 1.546381 1.531852 1.192144 1.660374 1.523428 1.398757 1.348337 1.373942\n",
            " 1.516218 1.557799 1.608655 1.5293   1.268918 1.954857 1.507732 1.852485\n",
            " 1.998728 1.645809 3.056953 1.549049 1.838721 1.09169  1.57271  1.449058\n",
            " 2.614983 1.119638 1.240047 1.85672  2.378478 2.324559 2.012576 1.136541\n",
            " 2.025097 1.553387 1.650756 1.093838 1.373942 1.954887 1.31831  1.090893\n",
            " 2.042421]\n",
            "\n",
            "Sample of peak_names (first entry): Peak_70\n"
          ]
        }
      ]
    },
    {
      "cell_type": "code",
      "source": [
        "pred =  list('''119.30222   212.46016   257.33496   308.04126   269.6403    191.52774\n",
        "   20.540316 -150.35196  -120.5622    240.24734   299.8707    195.5897\n",
        "  188.74388   282.49976   207.2959    215.4158    155.00168    52.021072\n",
        "  -65.854645  -15.159489  -11.277153 -140.1776   -117.745544  -75.88133\n",
        " -116.79756   -62.25822   -64.65137   127.642365  199.37941    90.1638\n",
        "   72.01878    74.005066  270.90884   -36.020164   81.49323   -17.63489\n",
        "    2.934514  119.537224  173.21265   -86.28469   -66.30246   -96.82457\n",
        "  -97.583084  -94.16221   -89.73187  -131.32265  -158.05948  -124.401505\n",
        " -147.17143   -43.548485 -140.81853  -187.2369   -191.25139  -182.74174\n",
        " -166.45482  -162.73163  -176.62598  -214.26643  -182.65182  -141.17429\n",
        " -147.66222  -131.25539  -148.40793  -124.78852  -154.63123  -106.300545\n",
        " -147.80756  -122.586845 -172.49455  -126.69004  -149.48738  -109.76181\n",
        " -175.42775  -113.66718    -7.420275  -63.831245 -142.46419  -162.34106\n",
        "   51.966053   83.984604  117.898186'''.split(\" \"))\n",
        "\n",
        "pred = [float(x) for x in pred if x]\n",
        "\n",
        "tru = list('''1.151828 1.605631 1.727072 2.665989 3.523474 1.858122 1.373942 1.101284\n",
        " 1.692156 1.416678 1.233521 2.4296   1.687405 1.417435 1.373942 1.703204\n",
        " 1.580527 1.29398  1.086789 1.278626 1.085566 1.635836 1.559985 1.506694\n",
        " 1.368486 1.17485  1.4463   1.36636  1.093838 1.640876 1.093838 1.52303\n",
        " 1.090893 1.095567 1.475017 1.465835 1.747995 1.482109 1.090893 1.242042\n",
        " 1.729853 1.531852 1.192144 1.525959 1.131276 1.708476 1.852317 1.373942\n",
        " 1.608637 1.21101  1.185716 1.207718 1.667046 1.377415 1.249117 1.543197\n",
        " 1.249231 1.51819  1.384767 2.146631 1.589669 1.764902 1.31831  1.449058\n",
        " 1.249117 1.119638 1.240047 1.095567 1.086789 1.123134 1.407541 1.136541\n",
        " 1.516218 1.743399 1.417632 1.093838 1.500516 1.088865 1.216065 1.192439\n",
        " 1.43034'''.split(\" \"))\n",
        "\n",
        "tru = [float(x) for x in tru if x]\n",
        "\n",
        "pred = np.array([pred])\n",
        "tru = np.array([tru])\n",
        "\n",
        "ranked_indices = np.argsort(pred[::-1])  # Highest to lowest\n",
        "ranked_tru = np.argsort(tru[::-1])\n",
        "print(\"Top sequences for B cells:\", ranked_indices[:10])\n",
        "print(ranked_tru)\n",
        "\n",
        "\n",
        "ranked_indices = ranked_indices.tolist()[0]\n",
        "ranked_tru = ranked_tru.tolist()[0]\n",
        "print(sorted(ranked_indices[:40]))\n",
        "print(sorted(ranked_tru[:40]))\n",
        "a =set(ranked_indices[:40]).intersection(set(ranked_tru[:40]))\n",
        "print(len(a))\n",
        "\n",
        "\n"
      ],
      "metadata": {
        "id": "0Kxc_dM_i0hi",
        "colab": {
          "base_uri": "https://localhost:8080/"
        },
        "outputId": "2954cced-6163-4964-de01-f531656a34ed"
      },
      "execution_count": 88,
      "outputs": [
        {
          "output_type": "stream",
          "name": "stdout",
          "text": [
            "Top sequences for B cells: [[57 52 51 53 58 56 72 68 54 55 77 46 64  7 70 62 66 60 48 76 59 50 21 45\n",
            "  61 69 63 47 67  8 22 24 73 71 65 42 41 43 44 39 23 40 18 26 75 25 49 33\n",
            "  35 19 20 74 36  6 78 17 30 31 34 79 29 80  0 37 27 16 38 12  5 11 28 14\n",
            "   1 15  9  2  4 32 13 10  3]]\n",
            "[[20 18 68 77 38 32 75 30 28 33 67  7 65 69 44 71  0 25 50 42 79 51 49 78\n",
            "  10 66 39 64 54 56 19 17 62 27 24  6 47 14 53 58 70  9 13 74 80 26 63 35\n",
            "  34 37 76 23 72 57 31 43 41 55 22 16 60  1 48 21 29 52 12  8 15 45  2 40\n",
            "  73 36 61 46  5 59 11  3  4]]\n",
            "[7, 8, 21, 22, 24, 39, 41, 42, 43, 44, 45, 46, 47, 48, 50, 51, 52, 53, 54, 55, 56, 57, 58, 59, 60, 61, 62, 63, 64, 65, 66, 67, 68, 69, 70, 71, 72, 73, 76, 77]\n",
            "[0, 6, 7, 10, 14, 17, 18, 19, 20, 24, 25, 27, 28, 30, 32, 33, 38, 39, 42, 44, 47, 49, 50, 51, 53, 54, 56, 58, 62, 64, 65, 66, 67, 68, 69, 71, 75, 77, 78, 79]\n",
            "21\n"
          ]
        }
      ]
    },
    {
      "cell_type": "code",
      "source": [
        "# !pip install Bio\n",
        "\n",
        "from Bio import SeqIO\n",
        "import numpy as np\n",
        "\n",
        "def one_hot_encode(sequence, seq_len):\n",
        "    \"\"\"\n",
        "    Converts a DNA sequence to a one-hot encoded matrix.\n",
        "    Args:\n",
        "        sequence (str): Input DNA sequence (A, C, G, T).\n",
        "        seq_len (int): Desired length for the sequence.\n",
        "    Returns:\n",
        "        np.ndarray: One-hot encoded matrix of shape (4, seq_len).\n",
        "    \"\"\"\n",
        "    # Define mapping for one-hot encoding\n",
        "    mapping = {'A': [1, 0, 0, 0], 'T': [0, 1, 0, 0], 'G': [0, 0, 1, 0], 'C': [0, 0, 0, 1]}\n",
        "\n",
        "    # Pad or truncate the sequence to the desired length\n",
        "    sequence = sequence.upper()\n",
        "    if len(sequence) > seq_len:\n",
        "        sequence = sequence[:seq_len]  # Truncate\n",
        "\n",
        "\n",
        "    # Convert the sequence into a one-hot encoded matrix\n",
        "    one_hot = np.array([mapping[base.upper()] for base in sequence])\n",
        "    return one_hot.T  # Transpose to get shape (4, seq_len)\n",
        "\n",
        "# Parameters\n",
        "fasta_file = \"../pax5_sequences_251.fa\"  # Replace with your FASTA file\n",
        "seq_len = 251  # Desired sequence length\n",
        "output_file = \"../one_hot_seqs_pax5.npy\"\n",
        "\n",
        "# Read sequences from the FASTA file and encode\n",
        "one_hot_sequences = []\n",
        "for record in SeqIO.parse(fasta_file, \"fasta\"):\n",
        "    one_hot = one_hot_encode(str(record.seq), seq_len)\n",
        "    one_hot_sequences.append(one_hot)\n",
        "\n",
        "# Convert to a NumPy array with shape (n_sequences, 4, seq_len)\n",
        "one_hot_array = np.array(one_hot_sequences)\n",
        "print(\"Shape of one-hot encoded array:\", one_hot_array.shape)\n",
        "\n",
        "# Save the array to an .npy file\n",
        "np.save(output_file, one_hot_array)\n",
        "print(f\"One-hot encoded sequences saved to {output_file}\")\n"
      ],
      "metadata": {
        "colab": {
          "base_uri": "https://localhost:8080/"
        },
        "id": "EjaoAStiUn6H",
        "outputId": "c99e3d5c-44a5-40b8-eef2-0bacd603ce60"
      },
      "execution_count": 158,
      "outputs": [
        {
          "output_type": "stream",
          "name": "stdout",
          "text": [
            "Shape of one-hot encoded array: (85, 4, 251)\n",
            "One-hot encoded sequences saved to ../one_hot_seqs_pax5.npy\n"
          ]
        }
      ]
    },
    {
      "cell_type": "code",
      "source": [
        "import numpy as np\n",
        "import pandas as pd\n",
        "\n",
        "\n",
        "one_hot_seqs_pax5 = \"../one_hot_seqs_pax5.npy\"\n",
        "seqs_pax5 = np.load(one_hot_seqs_pax5)\n",
        "print(seqs_pax5)\n",
        "\n",
        "n_sequences = 85  # Number of sequences\n",
        "n_cell_types = 81  # Number of cell types\n",
        "dummy_labels = np.zeros((n_sequences, n_cell_types), dtype=np.float32)\n",
        "\n",
        "output_file = \"../dummy_labels.npy\"\n",
        "np.save(output_file, dummy_labels)\n",
        "\n",
        "ids = pd.read_csv(\"../pax5_peaks_ids.txt\", header=None).squeeze(\"columns\")\n",
        "ids = ids.to_numpy()\n",
        "np.save(\"../peak_names_pax5.npy\", ids, allow_pickle=True)\n",
        "print(ids)\n",
        "\n",
        "\n"
      ],
      "metadata": {
        "colab": {
          "base_uri": "https://localhost:8080/"
        },
        "collapsed": true,
        "id": "h4WlXHzqzMzf",
        "outputId": "7a665750-a73e-4c6d-81f3-5cbbad71f6ae"
      },
      "execution_count": 139,
      "outputs": [
        {
          "output_type": "stream",
          "name": "stdout",
          "text": [
            "[[[0 0 1 ... 0 0 0]\n",
            "  [0 0 0 ... 0 0 0]\n",
            "  [1 1 0 ... 1 0 0]\n",
            "  [0 0 0 ... 0 1 1]]\n",
            "\n",
            " [[0 0 0 ... 0 1 0]\n",
            "  [0 1 0 ... 0 0 1]\n",
            "  [0 0 0 ... 1 0 0]\n",
            "  [1 0 1 ... 0 0 0]]\n",
            "\n",
            " [[0 0 0 ... 0 0 0]\n",
            "  [1 0 1 ... 0 1 0]\n",
            "  [0 1 0 ... 0 0 0]\n",
            "  [0 0 0 ... 1 0 1]]\n",
            "\n",
            " ...\n",
            "\n",
            " [[0 0 1 ... 0 0 0]\n",
            "  [0 1 0 ... 1 0 1]\n",
            "  [1 0 0 ... 0 0 0]\n",
            "  [0 0 0 ... 0 1 0]]\n",
            "\n",
            " [[0 0 0 ... 0 1 0]\n",
            "  [1 0 1 ... 0 0 1]\n",
            "  [0 1 0 ... 0 0 0]\n",
            "  [0 0 0 ... 1 0 0]]\n",
            "\n",
            " [[0 0 0 ... 0 0 1]\n",
            "  [1 1 0 ... 0 1 0]\n",
            "  [0 0 1 ... 1 0 0]\n",
            "  [0 0 0 ... 0 0 0]]]\n",
            "['Peak_20' 'Peak_70' 'Peak_244' 'Peak_288' 'Peak_913' 'Peak_941'\n",
            " 'Peak_1522' 'Peak_1898' 'Peak_1940' 'Peak_2217' 'Peak_2246' 'Peak_2429'\n",
            " 'Peak_3184' 'Peak_3311' 'Peak_3566' 'Peak_3641' 'Peak_4138' 'Peak_4309'\n",
            " 'Peak_4327' 'Peak_4697' 'Peak_4744' 'Peak_4998' 'Peak_5112' 'Peak_5443'\n",
            " 'Peak_6443' 'Peak_6897' 'Peak_7059' 'Peak_7371' 'Peak_7409' 'Peak_7555'\n",
            " 'Peak_7823' 'Peak_8588' 'Peak_8726' 'Peak_8745' 'Peak_8895' 'Peak_9086'\n",
            " 'Peak_9154' 'Peak_9889' 'Peak_9945' 'Peak_10048' 'Peak_10115'\n",
            " 'Peak_10123' 'Peak_10735' 'Peak_11074' 'Peak_11259' 'Peak_11377'\n",
            " 'Peak_11419' 'Peak_11453' 'Peak_11507' 'Peak_11680' 'Peak_11806'\n",
            " 'Peak_12147' 'Peak_12637' 'Peak_13170' 'Peak_13197' 'Peak_13215'\n",
            " 'Peak_13779' 'Peak_13802' 'Peak_14079' 'Peak_14353' 'Peak_14452'\n",
            " 'Peak_15755' 'Peak_16217' 'Peak_16407' 'Peak_16636' 'Peak_16676'\n",
            " 'Peak_17266' 'Peak_18225' 'Peak_18632' 'Peak_18886' 'Peak_19178'\n",
            " 'Peak_19548' 'Peak_19744' 'Peak_19932' 'Peak_20365' 'Peak_21722'\n",
            " 'Peak_21776' 'Peak_22553' 'Peak_22892' 'Peak_23836' 'Peak_24512'\n",
            " 'Peak_26516' 'Peak_26902' 'Peak_29046' 'Peak_29470']\n"
          ]
        }
      ]
    },
    {
      "cell_type": "code",
      "source": [
        "\n"
      ],
      "metadata": {
        "colab": {
          "base_uri": "https://localhost:8080/"
        },
        "id": "Xlh36PrKL6hm",
        "outputId": "37598e70-40ff-4fd2-c1e7-c1321f099c96"
      },
      "execution_count": 137,
      "outputs": [
        {
          "output_type": "stream",
          "name": "stdout",
          "text": [
            "['Peak_20' 'Peak_70' 'Peak_244' 'Peak_288' 'Peak_913' 'Peak_941'\n",
            " 'Peak_1522' 'Peak_1898' 'Peak_1940' 'Peak_2217' 'Peak_2246' 'Peak_2429'\n",
            " 'Peak_3184' 'Peak_3311' 'Peak_3566' 'Peak_3641' 'Peak_4138' 'Peak_4309'\n",
            " 'Peak_4327' 'Peak_4697' 'Peak_4744' 'Peak_4998' 'Peak_5112' 'Peak_5443'\n",
            " 'Peak_6443' 'Peak_6897' 'Peak_7059' 'Peak_7371' 'Peak_7409' 'Peak_7555'\n",
            " 'Peak_7823' 'Peak_8588' 'Peak_8726' 'Peak_8745' 'Peak_8895' 'Peak_9086'\n",
            " 'Peak_9154' 'Peak_9889' 'Peak_9945' 'Peak_10048' 'Peak_10115'\n",
            " 'Peak_10123' 'Peak_10735' 'Peak_11074' 'Peak_11259' 'Peak_11377'\n",
            " 'Peak_11419' 'Peak_11453' 'Peak_11507' 'Peak_11680' 'Peak_11806'\n",
            " 'Peak_12147' 'Peak_12637' 'Peak_13170' 'Peak_13197' 'Peak_13215'\n",
            " 'Peak_13779' 'Peak_13802' 'Peak_14079' 'Peak_14353' 'Peak_14452'\n",
            " 'Peak_15755' 'Peak_16217' 'Peak_16407' 'Peak_16636' 'Peak_16676'\n",
            " 'Peak_17266' 'Peak_18225' 'Peak_18632' 'Peak_18886' 'Peak_19178'\n",
            " 'Peak_19548' 'Peak_19744' 'Peak_19932' 'Peak_20365' 'Peak_21722'\n",
            " 'Peak_21776' 'Peak_22553' 'Peak_22892' 'Peak_23836' 'Peak_24512'\n",
            " 'Peak_26516' 'Peak_26902' 'Peak_29046' 'Peak_29470']\n"
          ]
        }
      ]
    },
    {
      "cell_type": "code",
      "source": [
        "!python -u extract_motifs.py 'aitac' '../one_hot_seqs_pax5.npy' '../target_heights_Pax5.npy' '../peak_names_pax5.npy'"
      ],
      "metadata": {
        "colab": {
          "base_uri": "https://localhost:8080/"
        },
        "id": "vvYkb3qVe99v",
        "outputId": "b2b8006d-c03c-4ed4-bc54-c0434a60210b"
      },
      "execution_count": 159,
      "outputs": [
        {
          "output_type": "stream",
          "name": "stdout",
          "text": [
            "/content/AI-TAC/code/extract_motifs.py:43: FutureWarning: You are using `torch.load` with `weights_only=False` (the current default value), which uses the default pickle module implicitly. It is possible to construct malicious pickle data which will execute arbitrary code during unpickling (See https://github.com/pytorch/pytorch/blob/main/SECURITY.md#untrusted-models for more details). In a future release, the default value for `weights_only` will be flipped to `True`. This limits the functions that could be executed during unpickling. Arbitrary objects will no longer be allowed to be loaded via this mode unless they are explicitly allowlisted by the user via `torch.serialization.add_safe_globals`. We recommend you start setting `weights_only=True` for any use case where you don't have full control of the loaded file. Please open an issue on GitHub for any issues related to this experimental feature.\n",
            "  checkpoint = torch.load('../models/' + model_name + '.ckpt', map_location= torch.device('cpu'))\n",
            "weighted_cor is 0.28239658547914204\n",
            "number of NaN values: 0\n",
            "weighted_cor is 0.8473962011475694\n",
            "number of NaN values: 0\n",
            "5.619815111160278\n",
            "could not set the title for graph\n",
            "Replacement index 1 out of range for positional args tuple\n",
            "could not set the title for graph\n",
            "Replacement index 1 out of range for positional args tuple\n",
            "Shape of filter-wise correlations:\n",
            "(5, 300)\n",
            "Shape of filter influence:\n",
            "(5, 300)\n",
            "could not set the title for graph\n",
            "Replacement index 1 out of range for positional args tuple\n"
          ]
        }
      ]
    },
    {
      "cell_type": "code",
      "source": [
        ""
      ],
      "metadata": {
        "id": "T0ZThUuTUS8W"
      },
      "execution_count": 142,
      "outputs": []
    },
    {
      "cell_type": "code",
      "source": [],
      "metadata": {
        "id": "LVbef93uo86P"
      },
      "execution_count": null,
      "outputs": []
    }
  ]
}